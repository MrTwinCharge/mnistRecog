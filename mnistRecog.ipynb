{
  "nbformat": 4,
  "nbformat_minor": 0,
  "metadata": {
    "colab": {
      "provenance": [],
      "authorship_tag": "ABX9TyPOroF1NOqk2jBPMZLRVaXq",
      "include_colab_link": true
    },
    "kernelspec": {
      "name": "python3",
      "display_name": "Python 3"
    },
    "language_info": {
      "name": "python"
    }
  },
  "cells": [
    {
      "cell_type": "markdown",
      "metadata": {
        "id": "view-in-github",
        "colab_type": "text"
      },
      "source": [
        "<a href=\"https://colab.research.google.com/github/MrTwinCharge/mnistRecog/blob/main/mnistRecog.ipynb\" target=\"_parent\"><img src=\"https://colab.research.google.com/assets/colab-badge.svg\" alt=\"Open In Colab\"/></a>"
      ]
    },
    {
      "cell_type": "code",
      "execution_count": null,
      "metadata": {
        "id": "1pTtFeWo0ffm"
      },
      "outputs": [],
      "source": [
        "#necessary imports\n",
        "import torch\n",
        "import torchvision\n",
        "from torchvision import transforms,datasets\n",
        "import torch.nn as nn\n",
        "import torch.nn.functional as F\n",
        "\n",
        "#establish train and test datasets\n",
        "\n",
        "train = datasets.MNIST(\"\", train = True, download = True, transform = transforms.Compose([transforms.ToTensor()]))\n",
        "test = datasets.MNIST(\"\", train = False, download = True, transform = transforms.Compose([transforms.ToTensor()]))\n",
        "\n",
        "#utilize dataloader, batch_Size refers to how many at a time to pass to model\n",
        "\n",
        "trainSet = torch.utils.data.DataLoader(train, batch_size = 10, shuffle=True)\n",
        "testSet = torch.utils.data.DataLoader(test, batch_size = 10, shuffle = True)\n",
        "\n",
        "#definition of network\n",
        "class Net(nn.Module):\n",
        "  def __init__(self):\n",
        "    super().__init__()\n",
        "    self.fc1 = nn.Linear(784, 64)\n",
        "    self.fc2 = nn.Linear(64, 64)\n",
        "    self.fc3 = nn.Linear(64, 64)\n",
        "    self.fc4 = nn.Linear(64, 10)\n",
        "\n",
        "  def forward(self, x):\n",
        "    x = F.relu(self.fc1(x))\n",
        "    x = F.relu(self.fc2(x))\n",
        "    x = F.relu(self.fc3(x))\n",
        "    x = self.fc4(x)\n",
        "    return F.log_softmax(x, dim = 1)"
      ]
    },
    {
      "cell_type": "code",
      "source": [
        "from google.colab import drive\n",
        "drive.mount('/content/drive')"
      ],
      "metadata": {
        "id": "NeZew-wNBAes"
      },
      "execution_count": null,
      "outputs": []
    },
    {
      "cell_type": "code",
      "source": [
        "#optimizer + loss calculation\n",
        "\n",
        "#necessary import\n",
        "import torch.optim as optim\n",
        "\n",
        "optimizer = optim.Adam(net.parameters(), lr = 0.001) #lr refers to learning rate\n",
        "\n",
        "EPOCHS = 3 # number of passes through dataset\n",
        "\n",
        "#loop through dataset + pass into network\n",
        "for epoch in range (EPOCHS):\n",
        "  for data in trainSet: #where data is a batch of featuresets\n",
        "    X,y = data\n",
        "    net.zero_grad()\n",
        "    output = net(X.view(-1, 28*28))\n",
        "\n",
        "    #loss calculation\n",
        "    loss = F.nll_loss(output, y)\n",
        "    loss.backward()\n",
        "    optimizer.step()\n",
        "  print(loss)"
      ],
      "metadata": {
        "colab": {
          "base_uri": "https://localhost:8080/"
        },
        "id": "cP36VoQP2eEf",
        "outputId": "1ead2c5f-2d5f-448c-9318-ca52f0c7d5ad"
      },
      "execution_count": 30,
      "outputs": [
        {
          "output_type": "stream",
          "name": "stdout",
          "text": [
            "tensor(0.0385, grad_fn=<NllLossBackward0>)\n",
            "tensor(0.2612, grad_fn=<NllLossBackward0>)\n",
            "tensor(0.0111, grad_fn=<NllLossBackward0>)\n"
          ]
        }
      ]
    },
    {
      "cell_type": "code",
      "source": [
        "#measurement of accuracy\n",
        "\n",
        "correct = 0\n",
        "total = 0\n",
        "\n",
        "with torch.no_grad():\n",
        "  for data in testSet:\n",
        "    X,y = data\n",
        "    output = net(X.view(-1, 784))\n",
        "    for idx, i in enumerate(output):\n",
        "      if torch.argmax(i) == y[idx]:\n",
        "        correct += 1\n",
        "      total += 1\n",
        "print(\"Accuracy: \", round(correct/total, 3))"
      ],
      "metadata": {
        "colab": {
          "base_uri": "https://localhost:8080/"
        },
        "id": "peYzdUKa61S9",
        "outputId": "b04033ab-831a-44df-8581-5be1cf8e8b03"
      },
      "execution_count": 38,
      "outputs": [
        {
          "output_type": "stream",
          "name": "stdout",
          "text": [
            "Accuracy:  0.972\n"
          ]
        }
      ]
    },
    {
      "cell_type": "code",
      "source": [
        "#visualization\n",
        "\n",
        "import matplotlib.pyplot as plt\n",
        "plt.imshow(X[1].view(28,28))\n",
        "plt.show()"
      ],
      "metadata": {
        "colab": {
          "base_uri": "https://localhost:8080/",
          "height": 450
        },
        "id": "L4Ot3Mir8zXh",
        "outputId": "306f4309-437b-46b1-f7bb-14c3803a4c7b"
      },
      "execution_count": 36,
      "outputs": [
        {
          "output_type": "display_data",
          "data": {
            "text/plain": [
              "<Figure size 640x480 with 1 Axes>"
            ],
            "image/png": "[encoded data removed]"
          },
          "metadata": {}
        }
      ]
    },
    {
      "cell_type": "code",
      "source": [
        "print(torch.argmax(net(X[1].view(-1, 784))[0]))"
      ],
      "metadata": {
        "colab": {
          "base_uri": "https://localhost:8080/"
        },
        "id": "spKaLvDB9At6",
        "outputId": "92701b6e-a620-4281-974c-dffba212feb3"
      },
      "execution_count": 37,
      "outputs": [
        {
          "output_type": "stream",
          "name": "stdout",
          "text": [
            "tensor(5)\n"
          ]
        }
      ]
    }
  ]
}